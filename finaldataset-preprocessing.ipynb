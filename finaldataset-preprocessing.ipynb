{
 "cells": [
  {
   "cell_type": "code",
   "execution_count": 2,
   "metadata": {},
   "outputs": [],
   "source": [
    "# import libraries for modeling\n",
    "import numpy as np\n",
    "import pandas as pd\n",
    "import matplotlib.pyplot as plt\n",
    "import torch\n",
    "\n",
    "from sklearn.model_selection import StratifiedKFold\n",
    "from sklearn.model_selection import train_test_split\n",
    "import random\n",
    "\n",
    "import os\n",
    "import cv2\n",
    "import glob\n",
    "from skimage.color import rgb2gray\n",
    "\n",
    "os.environ[\"CUDA_DEVICE_ORDER\"]=\"PCI_BUS_ID\"\n",
    "os.environ[\"CUDA_VISIBLE_DEVICES\"]=\"\""
   ]
  },
  {
   "cell_type": "code",
   "execution_count": 18,
   "metadata": {},
   "outputs": [],
   "source": [
    "n = 0\n",
    "xt = np.load('../data/final/3d/xtrain_40-%d.npy' % (n))\n",
    "yt = np.load('../data/final/3d/ytrain_40-0.npy')"
   ]
  },
  {
   "cell_type": "code",
   "execution_count": 19,
   "metadata": {},
   "outputs": [
    {
     "name": "stdout",
     "output_type": "stream",
     "text": [
      "(2305, 64, 64, 3)\n",
      "(2305,)\n"
     ]
    }
   ],
   "source": [
    "print(xt.shape)\n",
    "print(yt.shape)"
   ]
  },
  {
   "cell_type": "code",
   "execution_count": 20,
   "metadata": {},
   "outputs": [],
   "source": [
    "xt = xt[:100, :, :, 0]\n",
    "yt = yt[:100]"
   ]
  },
  {
   "cell_type": "code",
   "execution_count": 29,
   "metadata": {},
   "outputs": [
    {
     "data": {
      "text/plain": [
       "array([[ 71,  68,  63, ..., 178, 178, 178],\n",
       "       [ 79,  75,  68, ..., 178, 178, 178],\n",
       "       [ 92,  86,  77, ..., 179, 179, 179],\n",
       "       ...,\n",
       "       [ 87,  79,  66, ..., 161, 163, 164],\n",
       "       [ 90,  81,  64, ..., 162, 165, 166],\n",
       "       [ 92,  81,  63, ..., 164, 166, 168]], dtype=uint8)"
      ]
     },
     "execution_count": 29,
     "metadata": {},
     "output_type": "execute_result"
    }
   ],
   "source": [
    "np.stack((xt[x_nor[0][0], :, :], xt[x_nor[0][1], :, :]), axis=2)[:, :, 0]"
   ]
  },
  {
   "cell_type": "code",
   "execution_count": 30,
   "metadata": {},
   "outputs": [
    {
     "data": {
      "text/plain": [
       "array([[139, 149, 145, ..., 164, 168, 170],\n",
       "       [134, 147, 148, ..., 150, 161, 168],\n",
       "       [124, 141, 133, ..., 130, 146, 161],\n",
       "       ...,\n",
       "       [139, 108, 104, ..., 102, 103, 103],\n",
       "       [140, 106,  96, ..., 102, 104, 105],\n",
       "       [127, 118,  89, ..., 103, 105, 106]], dtype=uint8)"
      ]
     },
     "execution_count": 30,
     "metadata": {},
     "output_type": "execute_result"
    }
   ],
   "source": [
    "np.stack((xt[x_nor[0][0], :, :], xt[x_nor[0][1], :, :]), axis=2)[:, :, 1]"
   ]
  },
  {
   "cell_type": "code",
   "execution_count": 53,
   "metadata": {},
   "outputs": [
    {
     "data": {
      "text/plain": [
       "array([[ 71,  68,  63, ..., 178, 178, 178],\n",
       "       [ 79,  75,  68, ..., 178, 178, 178],\n",
       "       [ 92,  86,  77, ..., 179, 179, 179],\n",
       "       ...,\n",
       "       [ 87,  79,  66, ..., 161, 163, 164],\n",
       "       [ 90,  81,  64, ..., 162, 165, 166],\n",
       "       [ 92,  81,  63, ..., 164, 166, 168]], dtype=uint8)"
      ]
     },
     "execution_count": 53,
     "metadata": {},
     "output_type": "execute_result"
    }
   ],
   "source": [
    "roi_2c[0, :, :, 0]"
   ]
  },
  {
   "cell_type": "code",
   "execution_count": 54,
   "metadata": {},
   "outputs": [
    {
     "data": {
      "text/plain": [
       "array([[139, 149, 145, ..., 164, 168, 170],\n",
       "       [134, 147, 148, ..., 150, 161, 168],\n",
       "       [124, 141, 133, ..., 130, 146, 161],\n",
       "       ...,\n",
       "       [139, 108, 104, ..., 102, 103, 103],\n",
       "       [140, 106,  96, ..., 102, 104, 105],\n",
       "       [127, 118,  89, ..., 103, 105, 106]], dtype=uint8)"
      ]
     },
     "execution_count": 54,
     "metadata": {},
     "output_type": "execute_result"
    }
   ],
   "source": [
    "roi_2c[0, :, :, 1]"
   ]
  },
  {
   "cell_type": "code",
   "execution_count": 37,
   "metadata": {},
   "outputs": [
    {
     "data": {
      "text/plain": [
       "31"
      ]
     },
     "execution_count": 37,
     "metadata": {},
     "output_type": "execute_result"
    }
   ],
   "source": [
    "len(x_nor[0])\n",
    "len(x_ede[0])"
   ]
  },
  {
   "cell_type": "code",
   "execution_count": 39,
   "metadata": {},
   "outputs": [
    {
     "ename": "IndexError",
     "evalue": "index 69 is out of bounds for axis 0 with size 69",
     "output_type": "error",
     "traceback": [
      "\u001b[0;31m---------------------------------------------------------------------------\u001b[0m",
      "\u001b[0;31mIndexError\u001b[0m                                Traceback (most recent call last)",
      "\u001b[0;32m<ipython-input-39-065e11f284c5>\u001b[0m in \u001b[0;36m<module>\u001b[0;34m\u001b[0m\n\u001b[0;32m----> 1\u001b[0;31m \u001b[0mx_nor\u001b[0m\u001b[0;34m[\u001b[0m\u001b[0;36m0\u001b[0m\u001b[0;34m]\u001b[0m\u001b[0;34m[\u001b[0m\u001b[0;36m69\u001b[0m\u001b[0;34m]\u001b[0m\u001b[0;34m\u001b[0m\u001b[0;34m\u001b[0m\u001b[0m\n\u001b[0m",
      "\u001b[0;31mIndexError\u001b[0m: index 69 is out of bounds for axis 0 with size 69"
     ]
    }
   ],
   "source": [
    "roi_2c = np.stack((xt[x_nor[0][0], :, :], xt[x_nor[0][i], :, :]), axis=2)\n",
    "roi_2c = roi_2c.ravel()\n",
    "roi_2c = roi_2c.reshape(-1, 64, 64, 2)\n",
    "print(roi_2c.shape)"
   ]
  },
  {
   "cell_type": "code",
   "execution_count": 52,
   "metadata": {},
   "outputs": [
    {
     "name": "stdout",
     "output_type": "stream",
     "text": [
      "(1, 64, 64, 2)\n",
      "(62, 64, 64, 2)\n"
     ]
    }
   ],
   "source": [
    "x_nor = np.where(yt==0)\n",
    "x_ede = np.where(yt==1)\n",
    "\n",
    "c = 0\n",
    "for i in range(1, len(x_nor[0])):\n",
    "    if x_nor[0][i-1] + 3 > x_nor[0][i]:\n",
    "        if c == 0:\n",
    "            roi_2c = np.stack((xt[x_nor[0][i-1], :, :], xt[x_nor[0][i], :, :]), axis=2)\n",
    "            roi_2c = roi_2c.ravel()\n",
    "            roi_2c = roi_2c.reshape(-1, 64, 64, 2)\n",
    "            print(roi_2c.shape)\n",
    "        else:\n",
    "            a = np.stack((xt[x_nor[0][i-1], :, :], xt[x_nor[0][i], :, :]), axis=2)\n",
    "            a = a.ravel()\n",
    "            a = a.reshape(-1, 64, 64, 2)\n",
    "            roi_2c = np.vstack((roi_2c, a))\n",
    "    c += 1   \n",
    "#             print(roi_2c.shape)\n",
    "\n",
    "print(roi_2c.shape)"
   ]
  },
  {
   "cell_type": "code",
   "execution_count": 41,
   "metadata": {},
   "outputs": [
    {
     "name": "stdout",
     "output_type": "stream",
     "text": [
      "62\n"
     ]
    }
   ],
   "source": [
    "print(c)"
   ]
  },
  {
   "cell_type": "code",
   "execution_count": null,
   "metadata": {},
   "outputs": [],
   "source": [
    "## a = []\n",
    "b = 0\n",
    "for j in [1]:\n",
    "    if j < 10:\n",
    "        j = '0' + str(j) + '/'\n",
    "    else:\n",
    "        j = str(j) + '/'\n",
    "\n",
    "    path = '/media/miruware/data/train50_final/' + j\n",
    "    \n",
    "\n",
    "    for dirname, _, filenames in os.walk(path):\n",
    "        for filename in filenames:\n",
    "            if filename.endswith('.jpg'):\n",
    "                img = cv2.imread(path + filename)\n",
    "                    \n",
    "                file_name, file_ext = os.path.splitext(filename)\n",
    "                    \n",
    "                with open(path + file_name + '.hytag', 'r') as f:\n",
    "                    a.append(len(f.readlines()))\n",
    "                    b += 1\n",
    "                with open(path + file_name + '.hytag', 'r') as f:\n",
    "                    while True:                \n",
    "                        line = f.readline()\n",
    "                        if line:\n",
    "                            line = line.strip().split(',')\n",
    "                            \n",
    "                            \n",
    "# # #                                 ROI coordinate extraction\n",
    "#                             hytag_list = line \n",
    "#                             x=int(hytag_list[4]); y=int(hytag_list[5]); w=int(hytag_list[6]); h=int(hytag_list[7]) \n",
    "#                             print(x)\n",
    "                        else:\n",
    "                            break"
   ]
  },
  {
   "cell_type": "markdown",
   "metadata": {},
   "source": [
    "## Create Train(40) and Valid(10) Dataset"
   ]
  },
  {
   "cell_type": "code",
   "execution_count": 49,
   "metadata": {
    "scrolled": true
   },
   "outputs": [
    {
     "name": "stdout",
     "output_type": "stream",
     "text": [
      "(2011, 64, 64, 2)\n",
      "(2011,)\n",
      "(537, 64, 64, 2)\n",
      "(537,)\n",
      "(1982, 64, 64, 2)\n",
      "(1982,)\n",
      "(566, 64, 64, 2)\n",
      "(566,)\n",
      "(2054, 64, 64, 2)\n",
      "(2054,)\n",
      "(494, 64, 64, 2)\n",
      "(494,)\n",
      "(1958, 64, 64, 2)\n",
      "(1958,)\n",
      "(590, 64, 64, 2)\n",
      "(590,)\n",
      "(2030, 64, 64, 2)\n",
      "(2030,)\n",
      "(518, 64, 64, 2)\n",
      "(518,)\n",
      "(2064, 64, 64, 2)\n",
      "(2064,)\n",
      "(484, 64, 64, 2)\n",
      "(484,)\n",
      "(2031, 64, 64, 2)\n",
      "(2031,)\n",
      "(517, 64, 64, 2)\n",
      "(517,)\n",
      "(2046, 64, 64, 2)\n",
      "(2046,)\n",
      "(502, 64, 64, 2)\n",
      "(502,)\n",
      "(2019, 64, 64, 2)\n",
      "(2019,)\n",
      "(529, 64, 64, 2)\n",
      "(529,)\n",
      "(2037, 64, 64, 2)\n",
      "(2037,)\n",
      "(511, 64, 64, 2)\n",
      "(511,)\n"
     ]
    }
   ],
   "source": [
    "# data preprocessing \n",
    "for n in range(10):\n",
    "    random.seed(n)\n",
    "    l = [i for i in range(1, 51)]\n",
    "    random.shuffle(l)\n",
    "#     print(l[:2])\n",
    "    c = 0\n",
    "    c2 = 0\n",
    "    \n",
    "    # Made Simple Train Set\n",
    "    # folder and file path\n",
    "    # 40개 case를 trainset 으로 저장.\n",
    "    for j in l[:40]:\n",
    "        labels = np.zeros(5000)  # store labels\n",
    "        ls_counts = 0\n",
    "        \n",
    "        if j < 10:\n",
    "            j = '0' + str(j) + '/'\n",
    "        else:\n",
    "            j = str(j) + '/'\n",
    "        \n",
    "        path = '/media/miruware/data/train50_final/' + j\n",
    "        \n",
    "        \n",
    "        for dirname, _, filenames in os.walk(path):\n",
    "            filenames = sorted(filenames)\n",
    "            for filename in filenames:\n",
    "#                 print(filename)\n",
    "                if filename.endswith('.jpg'):\n",
    "                    img = cv2.imread(path + filename)\n",
    "                    \n",
    "                    file_name, file_ext = os.path.splitext(filename)\n",
    "                    \n",
    "\n",
    "                    with open(path + file_name + '.hytag', 'r') as f:\n",
    "\n",
    "                        while True:                \n",
    "                            line = f.readline()\n",
    "                            if line:\n",
    "                                line = line.strip().split(',')\n",
    "                            \n",
    "                                # ROI coordinate extraction\n",
    "                                hytag_list = line \n",
    "                                x=int(hytag_list[4]); y=int(hytag_list[5]); w=int(hytag_list[6]); h=int(hytag_list[7]) \n",
    "                            \n",
    "                                # label extraction\n",
    "                                \n",
    "                                if hytag_list[0] == 'LBUID_636802211114365653_0529': # Edema\n",
    "                                    labels[ls_counts] = 1\n",
    "                                elif hytag_list[0] == 'LBUID_636802210898995628_5475': # Normal \n",
    "                                    labels[ls_counts] = 0\n",
    "\n",
    "                                # Resize image(Minimal size for xline and yline)\n",
    "                                roi = img[y:y+h, x:x+w]\n",
    "                                \n",
    "                                roi_resize = cv2.resize(roi, (64, 64))\n",
    "                                roi_resize_ravel = roi_resize.ravel()\n",
    "                                roi_resize_ravel = roi_resize_ravel.reshape(-1, 64, 64, 3)\n",
    "\n",
    "#                                 roi_resize_ravel = rgb2gray(roi_resize_ravel)\n",
    "\n",
    "                                ls_counts += 1\n",
    "\n",
    "                                # stack arrays for making trainset\n",
    "                                if ls_counts < 2:\n",
    "                                    roi_all = roi_resize_ravel\n",
    "                                else:\n",
    "                                    roi_all = np.vstack((roi_all, roi_resize_ravel))\n",
    "#                                 print(roi_all.shape)\n",
    "                            else:\n",
    "                                break\n",
    "                        \n",
    "# #                 else:\n",
    "# #                     pass\n",
    "\n",
    "        roi_all = roi_all[:, :, :, 0]\n",
    "\n",
    "        xt = roi_all\n",
    "        labels = labels[:roi_all.shape[0]]\n",
    "#         print(labels)\n",
    "\n",
    "        x_nor = np.where(labels==0)\n",
    "        x_ede = np.where(labels==1)\n",
    "#         print(x_ede[0])\n",
    "\n",
    "        for i in range(1, len(x_nor[0])):\n",
    "            if x_nor[0][i-1] + 3 > x_nor[0][i]:\n",
    "                if c == 0:\n",
    "                    roi_2c = np.stack((xt[x_nor[0][i-1], :, :], xt[x_nor[0][i], :, :]), axis=2)\n",
    "                    roi_2c = roi_2c.ravel()\n",
    "                    roi_2c = roi_2c.reshape(-1, 64, 64, 2)\n",
    "#                     print(roi_2c.shape)\n",
    "\n",
    "\n",
    "                else:\n",
    "                    a = np.stack((xt[x_nor[0][i-1], :, :], xt[x_nor[0][i], :, :]), axis=2)\n",
    "                    a = a.ravel()\n",
    "                    a = a.reshape(-1, 64, 64, 2)\n",
    "                    roi_2c = np.vstack((roi_2c, a))\n",
    "#                     print(roi_2c.shape)\n",
    "\n",
    "                c += 1  \n",
    "\n",
    "        \n",
    "            \n",
    "        for i in range(1, len(x_ede[0])):\n",
    "            if x_ede[0][i-1] + 3 > x_ede[0][i]:\n",
    "                if c2 == 0:\n",
    "#                     print(i)\n",
    "                    roi_2c_ede = np.stack((xt[x_ede[0][i-1], :, :], xt[x_ede[0][i], :, :]), axis=2)\n",
    "                    roi_2c_ede = roi_2c_ede.ravel()\n",
    "                    roi_2c_ede = roi_2c_ede.reshape(-1, 64, 64, 2)\n",
    "#                     print(roi_2c_ede.shape)\n",
    "\n",
    "                else:\n",
    "#                     print(i)\n",
    "                    a = np.stack((xt[x_ede[0][i-1], :, :], xt[x_ede[0][i], :, :]), axis=2)\n",
    "                    a = a.ravel()\n",
    "                    a = a.reshape(-1, 64, 64, 2)\n",
    "                    roi_2c_ede = np.vstack((roi_2c_ede, a))\n",
    "#                     print(roi_2c_ede.shape)\n",
    "                c2 += 1\n",
    "    \n",
    "    label_train_nor = np.zeros(roi_2c.shape[0])\n",
    "    label_train_ede = np.ones(roi_2c_ede.shape[0])\n",
    "    \n",
    "    roi_2c_train = np.vstack((roi_2c, roi_2c_ede))\n",
    "    label_train = np.hstack((label_train_nor, label_train_ede))\n",
    "\n",
    "#     print(roi_2c_train.shape)\n",
    "#     print(label_train.shape)\n",
    "\n",
    "    \n",
    "    c = 0\n",
    "    c2 = 0\n",
    "#     ls_counts = 0\n",
    "#     labels2 = np.zeros(5000)  # store labels\n",
    "    \n",
    "    for j in l[40:]:\n",
    "        labels = np.zeros(5000)  # store labels\n",
    "        ls_counts = 0\n",
    "        \n",
    "        if j < 10:\n",
    "            j = '0' + str(j) + '/'\n",
    "        else:\n",
    "            j = str(j) + '/'\n",
    "        \n",
    "        path = '/media/miruware/data/train50_final/' + j\n",
    "        \n",
    "        \n",
    "        for dirname, _, filenames in os.walk(path):\n",
    "            filenames = sorted(filenames)\n",
    "            for filename in filenames:\n",
    "#                 print(filename)\n",
    "                if filename.endswith('.jpg'):\n",
    "                    img = cv2.imread(path + filename)\n",
    "                    \n",
    "                    file_name, file_ext = os.path.splitext(filename)\n",
    "                    \n",
    "\n",
    "                    with open(path + file_name + '.hytag', 'r') as f:\n",
    "\n",
    "                        while True:                \n",
    "                            line = f.readline()\n",
    "                            if line:\n",
    "                                line = line.strip().split(',')\n",
    "                            \n",
    "                                # ROI coordinate extraction\n",
    "                                hytag_list = line \n",
    "                                x=int(hytag_list[4]); y=int(hytag_list[5]); w=int(hytag_list[6]); h=int(hytag_list[7]) \n",
    "                            \n",
    "                                # label extraction\n",
    "                                \n",
    "                                if hytag_list[0] == 'LBUID_636802211114365653_0529': # Edema\n",
    "                                    labels[ls_counts] = 1\n",
    "                                elif hytag_list[0] == 'LBUID_636802210898995628_5475': # Normal \n",
    "                                    labels[ls_counts] = 0\n",
    "\n",
    "                                # Resize image(Minimal size for xline and yline)\n",
    "                                roi = img[y:y+h, x:x+w]\n",
    "                                \n",
    "                                roi_resize = cv2.resize(roi, (64, 64))\n",
    "                                roi_resize_ravel = roi_resize.ravel()\n",
    "                                roi_resize_ravel = roi_resize_ravel.reshape(-1, 64, 64, 3)\n",
    "\n",
    "#                                 roi_resize_ravel = rgb2gray(roi_resize_ravel)\n",
    "\n",
    "                                ls_counts += 1\n",
    "\n",
    "                                # stack arrays for making trainset\n",
    "                                if ls_counts < 2:\n",
    "                                    roi_all = roi_resize_ravel\n",
    "                                else:\n",
    "                                    roi_all = np.vstack((roi_all, roi_resize_ravel))\n",
    "#                                 print(roi_all.shape)\n",
    "                            else:\n",
    "                                break\n",
    "                        \n",
    "# #                 else:\n",
    "# #                     pass\n",
    "\n",
    "        roi_all = roi_all[:, :, :, 0]\n",
    "\n",
    "        xt = roi_all\n",
    "        labels = labels[:roi_all.shape[0]]\n",
    "#         print(labels)\n",
    "\n",
    "        x_nor = np.where(labels==0)\n",
    "        x_ede = np.where(labels==1)\n",
    "#         print(x_ede[0])\n",
    "\n",
    "        for i in range(1, len(x_nor[0])):\n",
    "            if x_nor[0][i-1] + 3 > x_nor[0][i]:\n",
    "                if c == 0:\n",
    "                    roi_2c = np.stack((xt[x_nor[0][i-1], :, :], xt[x_nor[0][i], :, :]), axis=2)\n",
    "                    roi_2c = roi_2c.ravel()\n",
    "                    roi_2c = roi_2c.reshape(-1, 64, 64, 2)\n",
    "#                     print(roi_2c.shape)\n",
    "\n",
    "\n",
    "                else:\n",
    "                    a = np.stack((xt[x_nor[0][i-1], :, :], xt[x_nor[0][i], :, :]), axis=2)\n",
    "                    a = a.ravel()\n",
    "                    a = a.reshape(-1, 64, 64, 2)\n",
    "                    roi_2c = np.vstack((roi_2c, a))\n",
    "#                     print(roi_2c.shape)\n",
    "\n",
    "                c += 1  \n",
    "\n",
    "        \n",
    "            \n",
    "        for i in range(1, len(x_ede[0])):\n",
    "            if x_ede[0][i-1] + 3 > x_ede[0][i]:\n",
    "                if c2 == 0:\n",
    "#                     print(i)\n",
    "                    roi_2c_ede = np.stack((xt[x_ede[0][i-1], :, :], xt[x_ede[0][i], :, :]), axis=2)\n",
    "                    roi_2c_ede = roi_2c_ede.ravel()\n",
    "                    roi_2c_ede = roi_2c_ede.reshape(-1, 64, 64, 2)\n",
    "#                     print(roi_2c_ede.shape)\n",
    "\n",
    "                else:\n",
    "#                     print(i)\n",
    "                    a = np.stack((xt[x_ede[0][i-1], :, :], xt[x_ede[0][i], :, :]), axis=2)\n",
    "                    a = a.ravel()\n",
    "                    a = a.reshape(-1, 64, 64, 2)\n",
    "                    roi_2c_ede = np.vstack((roi_2c_ede, a))\n",
    "#                     print(roi_2c_ede.shape)\n",
    "                c2 += 1\n",
    "    \n",
    "    label_valid_nor = np.zeros(roi_2c.shape[0])\n",
    "    label_valid_ede = np.ones(roi_2c_ede.shape[0])\n",
    "    \n",
    "    roi_2c_valid = np.vstack((roi_2c, roi_2c_ede))\n",
    "    label_valid = np.hstack((label_valid_nor, label_valid_ede))\n",
    "    \n",
    "    \n",
    "    print(roi_2c_train.shape)\n",
    "    print(label_train.shape)\n",
    "    print(roi_2c_valid.shape)\n",
    "    print(label_valid.shape)\n",
    "                                \n",
    "    np.save('../data/final/3d/xtrain_40-2c-%d.npy' % (n), roi_2c_train)\n",
    "    np.save('../data/final/3d/ytrain_40-2c-%d.npy' % (n), label_train)\n",
    "    np.save('../data/final/3d/xvalid_10-2c-%d.npy' % (n), roi_2c_valid)\n",
    "    np.save('../data/final/3d/yvalid_10-2c-%d.npy'% (n), label_valid)"
   ]
  },
  {
   "cell_type": "markdown",
   "metadata": {},
   "source": [
    "## Create Train(50)Set"
   ]
  },
  {
   "cell_type": "code",
   "execution_count": 3,
   "metadata": {},
   "outputs": [],
   "source": [
    "# data preprocessing \n",
    "\n",
    "ls_counts = 0\n",
    "labels = np.zeros(5000)  # store labels\n",
    "\n",
    "l = [i+1 for i in range(50)]\n",
    "    # Made Simple Train Set\n",
    "    # folder and file path\n",
    "    # 40개 case를 trainset 으로 저장.\n",
    "for j in l:\n",
    "    if j < 10:\n",
    "        j = '0' + str(j) + '/'\n",
    "    else:\n",
    "        j = str(j) + '/'\n",
    "\n",
    "    path = '/media/miruware/data/train50_final/' + j\n",
    "\n",
    "    for dirname, _, filenames in os.walk(path):\n",
    "        for filename in filenames:\n",
    "            if filename.endswith('.jpg'):\n",
    "                img = cv2.imread(path + filename)\n",
    "\n",
    "                file_name, file_ext = os.path.splitext(filename)\n",
    "#                     print(file_name)\n",
    "\n",
    "#                 if filename.endswith('.hytag'):\n",
    "                with open(path + file_name + '.hytag', 'r') as f:                  \n",
    "                    while True:\n",
    "                        line = f.readline()\n",
    "                        if line: \n",
    "                            line = line.strip().split(',')\n",
    "#                                 print(line)\n",
    "\n",
    "#                                 ROI coordinate extraction\n",
    "                            hytag_list = line\n",
    "                            x=int(hytag_list[4]); y=int(hytag_list[5]); w=int(hytag_list[6]); h=int(hytag_list[7]) \n",
    "\n",
    "                            # label extraction\n",
    "                            if hytag_list[0] == 'LBUID_636802211114365653_0529': # Edema\n",
    "                                labels[ls_counts] = 1\n",
    "                            elif hytag_list[0] == 'LBUID_636802210898995628_5475': # Normal \n",
    "                                labels[ls_counts] = 0\n",
    "\n",
    "                            # Resize image(Minimal size for xline and yline)\n",
    "                            roi = img[y:y+h, x:x+w]\n",
    "                            roi_resize = cv2.resize(roi, (64, 64))\n",
    "                            roi_resize_ravel = roi_resize.ravel()\n",
    "                            roi_resize_ravel = roi_resize_ravel.reshape(-1, 64, 64, 3)\n",
    "\n",
    "#                             roi_resize_ravel = rgb2gray(roi_resize_ravel)\n",
    "\n",
    "                            ls_counts += 1\n",
    "\n",
    "                            # stack arrays for making trainset\n",
    "                            if ls_counts < 2:\n",
    "                                roi_all = roi_resize_ravel\n",
    "                            else:\n",
    "                                roi_all = np.vstack((roi_all, roi_resize_ravel))                        \n",
    "                        else:\n",
    "                            break\n",
    "#                 else:\n",
    "#                     pass\n",
    "\n",
    "labels = labels[:roi_all.shape[0]]\n",
    "\n",
    "np.save('../data/final/3d/xtrain.npy', roi_all)\n",
    "np.save('../data/final/3d/ytrain.npy', labels)"
   ]
  },
  {
   "cell_type": "code",
   "execution_count": 4,
   "metadata": {},
   "outputs": [
    {
     "name": "stdout",
     "output_type": "stream",
     "text": [
      "(2897, 64, 64, 3)\n",
      "(2897,)\n"
     ]
    }
   ],
   "source": [
    "print(roi_all.shape)\n",
    "print(labels.shape)"
   ]
  },
  {
   "cell_type": "markdown",
   "metadata": {},
   "source": [
    "## Create TestSet"
   ]
  },
  {
   "cell_type": "code",
   "execution_count": 5,
   "metadata": {},
   "outputs": [
    {
     "name": "stdout",
     "output_type": "stream",
     "text": [
      "(1297, 64, 64, 3)\n",
      "(1297,)\n"
     ]
    }
   ],
   "source": [
    "# data preprocessing \n",
    "\n",
    "ls_counts = 0\n",
    "labels = np.zeros(5000)  # store labels\n",
    "\n",
    "l = [i+1 for i in range(50, 73)]\n",
    "    # Made Simple Train Set\n",
    "    # folder and file path\n",
    "    # 40개 case를 trainset 으로 저장.\n",
    "for j in l:\n",
    "    if j < 10:\n",
    "        j = '0' + str(j) + '/'\n",
    "    else:\n",
    "        j = str(j) + '/'\n",
    "\n",
    "    path = '/media/miruware/data/test23_final/' + j\n",
    "\n",
    "    for dirname, _, filenames in os.walk(path):\n",
    "        for filename in filenames:\n",
    "            if filename.endswith('.jpg'):\n",
    "                img = cv2.imread(path + filename)\n",
    "\n",
    "                file_name, file_ext = os.path.splitext(filename)\n",
    "#                     print(file_name)\n",
    "\n",
    "#                 if filename.endswith('.hytag'):\n",
    "                with open(path + file_name + '.hytag', 'r') as f:                  \n",
    "                    while True:\n",
    "                        line = f.readline()\n",
    "                        if line: \n",
    "                            line = line.strip().split(',')\n",
    "#                                 print(line)\n",
    "\n",
    "#                                 ROI coordinate extraction\n",
    "                            hytag_list = line\n",
    "                            x=int(hytag_list[4]); y=int(hytag_list[5]); w=int(hytag_list[6]); h=int(hytag_list[7]) \n",
    "\n",
    "                            # label extraction\n",
    "                            if hytag_list[0] == 'LBUID_636802211114365653_0529': # Edema\n",
    "                                labels[ls_counts] = 1\n",
    "                            elif hytag_list[0] == 'LBUID_636802210898995628_5475': # Normal \n",
    "                                labels[ls_counts] = 0\n",
    "\n",
    "                            # Resize image(Minimal size for xline and yline)\n",
    "                            roi = img[y:y+h, x:x+w]\n",
    "                            roi_resize = cv2.resize(roi, (64, 64))\n",
    "                            roi_resize_ravel = roi_resize.ravel()\n",
    "                            roi_resize_ravel = roi_resize_ravel.reshape(-1, 64, 64, 3)\n",
    "\n",
    "#                             roi_resize_ravel = rgb2gray(roi_resize_ravel)\n",
    "\n",
    "                            ls_counts += 1\n",
    "\n",
    "                            # stack arrays for making trainset\n",
    "                            if ls_counts < 2:\n",
    "                                roi_all = roi_resize_ravel\n",
    "                            else:\n",
    "                                roi_all = np.vstack((roi_all, roi_resize_ravel))                        \n",
    "                        else:\n",
    "                            break\n",
    "#                 else:\n",
    "#                     pass\n",
    "\n",
    "labels = labels[:roi_all.shape[0]]\n",
    "\n",
    "print(roi_all.shape)\n",
    "print(labels.shape)\n",
    "\n",
    "np.save('../data/final/3d/xtest.npy', roi_all)\n",
    "np.save('../data/final/3d/ytest.npy', labels)"
   ]
  },
  {
   "cell_type": "code",
   "execution_count": null,
   "metadata": {},
   "outputs": [],
   "source": []
  }
 ],
 "metadata": {
  "kernelspec": {
   "display_name": "Python 3",
   "language": "python",
   "name": "python3"
  },
  "language_info": {
   "codemirror_mode": {
    "name": "ipython",
    "version": 3
   },
   "file_extension": ".py",
   "mimetype": "text/x-python",
   "name": "python",
   "nbconvert_exporter": "python",
   "pygments_lexer": "ipython3",
   "version": "3.7.6"
  }
 },
 "nbformat": 4,
 "nbformat_minor": 4
}
